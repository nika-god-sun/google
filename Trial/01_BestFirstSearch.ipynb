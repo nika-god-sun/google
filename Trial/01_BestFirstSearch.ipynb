{
 "cells": [
  {
   "cell_type": "code",
   "execution_count": 2,
   "metadata": {},
   "outputs": [
    {
     "name": "stdout",
     "output_type": "stream",
     "text": [
      "Minimum cost path from A to D is ['A', 'C', 'B', 'D']\n",
      "Cost: 4\n"
     ]
    }
   ],
   "source": [
    "def BFS(graph,start,goal,hurestic,path=[]):\n",
    "    openL=[(0,start)]\n",
    "    close=set()\n",
    "    close.add(start)\n",
    "\n",
    "    while openL:\n",
    "        openL.sort(key=lambda x:hurestic[x[1]],reverse=True)\n",
    "        cost , node = openL.pop()\n",
    "        path.append(node)\n",
    "        \n",
    "        if node == goal:\n",
    "            return cost , path\n",
    "        \n",
    "        for neigh , neighCost in graph[node]:\n",
    "            if neigh not in close:\n",
    "                close.add(neigh)\n",
    "                openL.append(((cost + neighCost) , neigh))\n",
    "    return None\n",
    "\n",
    "graph={\n",
    "    'A':[('B',1),('C',2)],\n",
    "    'B':[('D' , 3)],\n",
    "    'C': [], 'D': []\n",
    "}\n",
    "heuristic ={ 'A':2, 'B':3, 'C':1, 'D':0, }\n",
    "start = 'A'\n",
    "goal = 'D'\n",
    "\n",
    "result = BFS(graph, start, goal, heuristic)\n",
    "\n",
    "if result:\n",
    "    print(f\"Minimum cost path from {start} to {goal} is {result[1]}\")\n",
    "    print(f\"Cost: {result[0]}\")\n",
    "else:\n",
    "    print(f\"No path from {start} to {goal}\")\n"
   ]
  }
 ],
 "metadata": {
  "kernelspec": {
   "display_name": "Python 3",
   "language": "python",
   "name": "python3"
  },
  "language_info": {
   "codemirror_mode": {
    "name": "ipython",
    "version": 3
   },
   "file_extension": ".py",
   "mimetype": "text/x-python",
   "name": "python",
   "nbconvert_exporter": "python",
   "pygments_lexer": "ipython3",
   "version": "3.12.2"
  }
 },
 "nbformat": 4,
 "nbformat_minor": 2
}
