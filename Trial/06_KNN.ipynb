{
 "cells": [
  {
   "cell_type": "code",
   "execution_count": 1,
   "metadata": {},
   "outputs": [
    {
     "data": {
      "text/plain": [
       "0.9777777777777777"
      ]
     },
     "execution_count": 1,
     "metadata": {},
     "output_type": "execute_result"
    }
   ],
   "source": [
    "from sklearn.datasets import load_iris\n",
    "X = load_iris().data\n",
    "y = load_iris().target\n",
    "\n",
    "# \n",
    "import numpy\n",
    "def eucDist(x1 , x2):\n",
    "    return numpy.sqrt(numpy.sum((x2 - x1) ** 2))\n",
    "\n",
    "# \n",
    "from collections import Counter\n",
    "class KNN:\n",
    "    def __init__(self , K = 3):\n",
    "        self.K = K\n",
    "    \n",
    "    def fit(self , X , y):\n",
    "        self.X = X\n",
    "        self.y = y\n",
    "    \n",
    "    def predict(self , X):\n",
    "        return [self._predict(x) for x in X]\n",
    "    \n",
    "    def _predict(self , X):\n",
    "        distance = [[i,eucDist(X,self.X[i])] for i in range(len(self.X))]\n",
    "        distance.sort(key=lambda x:x[1])\n",
    "        distance = distance[:self.K]\n",
    "        y = [self.y[i] for i,_ in distance]\n",
    "        val = Counter(y)\n",
    "        return val.most_common()[0][0]\n",
    "    \n",
    "knn = KNN()\n",
    "\n",
    "# \n",
    "from sklearn.model_selection import train_test_split\n",
    "X_train , X_test , y_train , y_test = train_test_split(X , y , train_size=0.7)\n",
    "\n",
    "#\n",
    "knn.fit(X_train , y_train)\n",
    "pred = knn.predict(X_test)\n",
    "numpy.mean(pred == y_test)"
   ]
  },
  {
   "cell_type": "code",
   "execution_count": 2,
   "metadata": {},
   "outputs": [
    {
     "name": "stdout",
     "output_type": "stream",
     "text": [
      "Accuracy of KNN classifier: 1.0\n"
     ]
    }
   ],
   "source": [
    "from sklearn.neighbors import KNeighborsClassifier\n",
    "from sklearn.datasets import load_iris\n",
    "from sklearn.model_selection import train_test_split\n",
    "from sklearn.metrics import accuracy_score\n",
    "\n",
    "# Load the dataset (for example, Iris dataset)\n",
    "iris = load_iris()\n",
    "X = iris.data\n",
    "y = iris.target\n",
    "\n",
    "# Split data into training and test sets\n",
    "X_train, X_test, y_train, y_test = train_test_split(X, y, test_size=0.3, random_state=42)\n",
    "\n",
    "# Initialize the KNN classifier\n",
    "k = 3  # Number of neighbors\n",
    "knn_classifier = KNeighborsClassifier(n_neighbors=k)\n",
    "\n",
    "# Fit the classifier to the training data\n",
    "knn_classifier.fit(X_train, y_train)\n",
    "\n",
    "# Predict on the test data\n",
    "y_pred = knn_classifier.predict(X_test)\n",
    "\n",
    "# Evaluate accuracy\n",
    "accuracy = accuracy_score(y_test, y_pred)\n",
    "print(f'Accuracy of KNN classifier: {accuracy}')\n"
   ]
  },
  {
   "cell_type": "code",
   "execution_count": 4,
   "metadata": {},
   "outputs": [
    {
     "name": "stdout",
     "output_type": "stream",
     "text": [
      "Accuracy with Euclidean Distance: 0.9538461538461539\n",
      "Accuracy with Manhattan Distance: 0.9846153846153847\n"
     ]
    },
    {
     "name": "stderr",
     "output_type": "stream",
     "text": [
      "C:\\Users\\thila\\AppData\\Roaming\\Python\\Python312\\site-packages\\sklearn\\neighbors\\_classification.py:238: DataConversionWarning: A column-vector y was passed when a 1d array was expected. Please change the shape of y to (n_samples,), for example using ravel().\n",
      "  return self._fit(X, y)\n",
      "C:\\Users\\thila\\AppData\\Roaming\\Python\\Python312\\site-packages\\sklearn\\neighbors\\_classification.py:238: DataConversionWarning: A column-vector y was passed when a 1d array was expected. Please change the shape of y to (n_samples,), for example using ravel().\n",
      "  return self._fit(X, y)\n"
     ]
    }
   ],
   "source": [
    "import numpy as np\n",
    "import pandas as pd\n",
    "from sklearn.model_selection import train_test_split\n",
    "from sklearn.neighbors import KNeighborsClassifier\n",
    "from sklearn.metrics import accuracy_score\n",
    "\n",
    "# Load the dataset\n",
    "df = pd.read_csv('./Datasets/glass.csv')\n",
    "\n",
    "# Assign features and target variable\n",
    "X = df.drop('Class',axis=1)\n",
    "y = df[['Class']]\n",
    "\n",
    "# Split the data into train and test sets\n",
    "X_train, X_test, y_train, y_test = train_test_split(X, y, test_size=0.3, random_state=42)\n",
    "\n",
    "# Define custom distance functions\n",
    "def custom_euclidean_distance(x1, x2):\n",
    "    return np.sqrt(np.sum((x1 - x2) ** 2))\n",
    "\n",
    "def custom_manhattan_distance(x1, x2):\n",
    "    return np.sum(np.abs(x1 - x2))\n",
    "\n",
    "# Initialize the KNN classifiers with custom distances\n",
    "k = 3  # Number of neighbors\n",
    "clf_custom_euclidean = KNeighborsClassifier(n_neighbors=k, metric=custom_euclidean_distance)\n",
    "clf_custom_manhattan = KNeighborsClassifier(n_neighbors=k, metric=custom_manhattan_distance)\n",
    "\n",
    "# Fit the KNN classifiers to the training data\n",
    "clf_custom_euclidean.fit(X_train, y_train)\n",
    "clf_custom_manhattan.fit(X_train, y_train)\n",
    "\n",
    "# Make predictions on the test set with custom distances\n",
    "predictions_custom_euclidean = clf_custom_euclidean.predict(X_test)\n",
    "predictions_custom_manhattan = clf_custom_manhattan.predict(X_test)\n",
    "\n",
    "# Calculate accuracy with custom distances\n",
    "accuracy_custom_euclidean = accuracy_score(y_test, predictions_custom_euclidean)\n",
    "accuracy_custom_manhattan = accuracy_score(y_test, predictions_custom_manhattan)\n",
    "print(\"Accuracy with Euclidean Distance:\", accuracy_custom_euclidean)\n",
    "print(\"Accuracy with Manhattan Distance:\", accuracy_custom_manhattan)"
   ]
  },
  {
   "cell_type": "code",
   "execution_count": null,
   "metadata": {},
   "outputs": [],
   "source": [
    "from sklearn"
   ]
  }
 ],
 "metadata": {
  "kernelspec": {
   "display_name": "Python 3",
   "language": "python",
   "name": "python3"
  },
  "language_info": {
   "codemirror_mode": {
    "name": "ipython",
    "version": 3
   },
   "file_extension": ".py",
   "mimetype": "text/x-python",
   "name": "python",
   "nbconvert_exporter": "python",
   "pygments_lexer": "ipython3",
   "version": "3.12.2"
  }
 },
 "nbformat": 4,
 "nbformat_minor": 2
}
