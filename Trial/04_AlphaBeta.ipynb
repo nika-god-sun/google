{
 "cells": [
  {
   "cell_type": "code",
   "execution_count": 1,
   "metadata": {},
   "outputs": [],
   "source": [
    "import sys\n",
    "def AlphaBeta(maxPlayer , alpha , beta , values , index , path , depth):\n",
    "    if depth == 3:\n",
    "        return values[index] , path + [index]\n",
    "    \n",
    "    if maxPlayer:\n",
    "        best = - sys.maxsize\n",
    "        bp = []\n",
    "        for i in range(2):\n",
    "            val , valPath = AlphaBeta(False , alpha , beta , values , 2 * index + 1 , path + [index] , depth + 1)\n",
    "            if val > best:\n",
    "                best = val\n",
    "                bp = valPath\n",
    "            alpha = max(alpha , best)\n",
    "            if alpha >= beta:\n",
    "                break\n",
    "        return best , bp\n",
    "    else:\n",
    "        best =  sys.maxsize\n",
    "        bp = []\n",
    "        for i in range(2):\n",
    "            val , valPath = AlphaBeta(False , alpha , beta , values , 2 * index + 1 , path + [index] , depth + 1)\n",
    "            if val < best:\n",
    "                best = val\n",
    "                bp = valPath\n",
    "            alpha = min(alpha , best)\n",
    "            if alpha >= beta:\n",
    "                break\n",
    "        return best , bp\n",
    "    "
   ]
  },
  {
   "cell_type": "code",
   "execution_count": 4,
   "metadata": {},
   "outputs": [
    {
     "name": "stdout",
     "output_type": "stream",
     "text": [
      "optimal value is 12\n",
      "optimal path is [0, 1, 3, 7]\n"
     ]
    }
   ],
   "source": [
    "values = [2,5,6,1,5,7,8,12,25]\n",
    "\n",
    "optimal_value,optimal_path = AlphaBeta(True ,-sys.maxsize , sys.maxsize , values , 0 , [] , 0)\n",
    "print(f\"optimal value is {optimal_value}\")\n",
    "print(f\"optimal path is {optimal_path}\")"
   ]
  }
 ],
 "metadata": {
  "kernelspec": {
   "display_name": "Python 3",
   "language": "python",
   "name": "python3"
  },
  "language_info": {
   "codemirror_mode": {
    "name": "ipython",
    "version": 3
   },
   "file_extension": ".py",
   "mimetype": "text/x-python",
   "name": "python",
   "nbconvert_exporter": "python",
   "pygments_lexer": "ipython3",
   "version": "3.12.2"
  }
 },
 "nbformat": 4,
 "nbformat_minor": 2
}
