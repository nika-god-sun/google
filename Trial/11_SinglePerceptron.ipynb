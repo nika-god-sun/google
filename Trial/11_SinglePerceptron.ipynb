{
 "cells": [
  {
   "cell_type": "code",
   "execution_count": 1,
   "metadata": {},
   "outputs": [
    {
     "name": "stdout",
     "output_type": "stream",
     "text": [
      "0\n",
      "1\n",
      "1\n",
      "1\n"
     ]
    }
   ],
   "source": [
    "import numpy as np \n",
    "\n",
    "def stepFunc(x):\n",
    "    return 1 if x > 0 else 0\n",
    "\n",
    "class Perceptron:\n",
    "    def __init__(self) -> None:\n",
    "        self.weights = np.zeros(2)\n",
    "        self.bias = 0\n",
    "        self.lr = 0.1\n",
    "    \n",
    "    def predict(self , x):\n",
    "        return stepFunc(np.dot(x , self.weights) + self.bias)\n",
    "    \n",
    "    def fit(self,X , y , epoch = 10):\n",
    "\n",
    "        for _ in range(epoch):\n",
    "            for xi , yi  in zip(X , y):\n",
    "                op = self.predict(xi)\n",
    "                cost = yi - op\n",
    "                self.weights += cost * self.lr * xi\n",
    "                self.bias += cost * self.lr\n",
    "\n",
    "per = Perceptron()\n",
    "\n",
    "X = np.array([[0,0],[0,1],[1,0],[1,1]])\n",
    "y = np.array([0,1,1,1])\n",
    "\n",
    "per.fit(X , y)\n",
    "\n",
    "for ele in X:\n",
    "    print(per.predict(ele))"
   ]
  }
 ],
 "metadata": {
  "kernelspec": {
   "display_name": "Python 3",
   "language": "python",
   "name": "python3"
  },
  "language_info": {
   "codemirror_mode": {
    "name": "ipython",
    "version": 3
   },
   "file_extension": ".py",
   "mimetype": "text/x-python",
   "name": "python",
   "nbconvert_exporter": "python",
   "pygments_lexer": "ipython3",
   "version": "3.12.2"
  }
 },
 "nbformat": 4,
 "nbformat_minor": 2
}
